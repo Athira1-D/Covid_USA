{
 "cells": [
  {
   "cell_type": "code",
   "execution_count": 1,
   "id": "97ce20eb",
   "metadata": {},
   "outputs": [],
   "source": [
    "# Importing libraries and data and renaming columns\n",
    "import pandas as pd\n",
    "import numpy as np\n",
    "import seaborn as sns\n",
    "import matplotlib\n",
    "import matplotlib.pyplot as plt\n",
    "import os\n",
    "import sklearn\n",
    "from sklearn.cluster import KMeans # Here is where you import the k-means algorithm from scikit-learn.\n",
    "import pylab as pl # PyLab is a convenience module that bulk imports matplotlib"
   ]
  },
  {
   "cell_type": "code",
   "execution_count": 2,
   "id": "1d6c88a3",
   "metadata": {},
   "outputs": [],
   "source": [
    "# This option ensures that the graphs you create are displayed within the notebook without the need to \\\"call\\\" them specifically.\n",
    "\n",
    "%matplotlib inline"
   ]
  },
  {
   "cell_type": "code",
   "execution_count": 3,
   "id": "de0fcd35",
   "metadata": {},
   "outputs": [],
   "source": [
    "path=r'C:\\Users\\User\\Project Covid'"
   ]
  },
  {
   "cell_type": "code",
   "execution_count": 4,
   "id": "6202dc4d",
   "metadata": {},
   "outputs": [],
   "source": [
    "#Importing merged data\n",
    "df_merged_covid = pd.read_csv(os.path.join(path, '02 Data', 'Prepared Data', 'covid_merged_datanew1.csv'))"
   ]
  },
  {
   "cell_type": "code",
   "execution_count": 6,
   "id": "e3049a31",
   "metadata": {},
   "outputs": [],
   "source": [
    "# 2. The elbow technique\n",
    "num_cl = range(1, 10) # Defines the range of potential clusters in the data.\n",
    "kmeans = [KMeans(n_clusters=i) for i in num_cl] # Defines k-means clusters in the range assigned above."
   ]
  },
  {
   "cell_type": "code",
   "execution_count": 8,
   "id": "10d2dd72",
   "metadata": {},
   "outputs": [
    {
     "data": {
      "text/html": [
       "<div>\n",
       "<style scoped>\n",
       "    .dataframe tbody tr th:only-of-type {\n",
       "        vertical-align: middle;\n",
       "    }\n",
       "\n",
       "    .dataframe tbody tr th {\n",
       "        vertical-align: top;\n",
       "    }\n",
       "\n",
       "    .dataframe thead th {\n",
       "        text-align: right;\n",
       "    }\n",
       "</style>\n",
       "<table border=\"1\" class=\"dataframe\">\n",
       "  <thead>\n",
       "    <tr style=\"text-align: right;\">\n",
       "      <th></th>\n",
       "      <th>Unnamed: 0</th>\n",
       "      <th>county_code</th>\n",
       "      <th>county_left</th>\n",
       "      <th>state</th>\n",
       "      <th>lat_left</th>\n",
       "      <th>long_left</th>\n",
       "      <th>male</th>\n",
       "      <th>female</th>\n",
       "      <th>median_age</th>\n",
       "      <th>female_percentage</th>\n",
       "      <th>covid_deaths</th>\n",
       "      <th>Population</th>\n",
       "      <th>covid_cases</th>\n",
       "    </tr>\n",
       "  </thead>\n",
       "  <tbody>\n",
       "    <tr>\n",
       "      <th>0</th>\n",
       "      <td>1</td>\n",
       "      <td>1001.0</td>\n",
       "      <td>Autauga</td>\n",
       "      <td>Alabama</td>\n",
       "      <td>32.539527</td>\n",
       "      <td>-86.644082</td>\n",
       "      <td>26874</td>\n",
       "      <td>28326</td>\n",
       "      <td>37.8</td>\n",
       "      <td>51.315217</td>\n",
       "      <td>7588955</td>\n",
       "      <td>3745181060</td>\n",
       "      <td>462768132</td>\n",
       "    </tr>\n",
       "    <tr>\n",
       "      <th>1</th>\n",
       "      <td>768</td>\n",
       "      <td>1003.0</td>\n",
       "      <td>Baldwin</td>\n",
       "      <td>Alabama</td>\n",
       "      <td>30.727750</td>\n",
       "      <td>-87.722071</td>\n",
       "      <td>101188</td>\n",
       "      <td>106919</td>\n",
       "      <td>42.8</td>\n",
       "      <td>51.376936</td>\n",
       "      <td>7588955</td>\n",
       "      <td>3745181060</td>\n",
       "      <td>462768132</td>\n",
       "    </tr>\n",
       "    <tr>\n",
       "      <th>2</th>\n",
       "      <td>1562</td>\n",
       "      <td>1005.0</td>\n",
       "      <td>Barbour</td>\n",
       "      <td>Alabama</td>\n",
       "      <td>31.868263</td>\n",
       "      <td>-85.387129</td>\n",
       "      <td>13697</td>\n",
       "      <td>12085</td>\n",
       "      <td>39.9</td>\n",
       "      <td>46.873788</td>\n",
       "      <td>7588955</td>\n",
       "      <td>3745181060</td>\n",
       "      <td>462768132</td>\n",
       "    </tr>\n",
       "    <tr>\n",
       "      <th>3</th>\n",
       "      <td>2245</td>\n",
       "      <td>1007.0</td>\n",
       "      <td>Bibb</td>\n",
       "      <td>Alabama</td>\n",
       "      <td>32.996421</td>\n",
       "      <td>-87.125115</td>\n",
       "      <td>12152</td>\n",
       "      <td>10375</td>\n",
       "      <td>39.9</td>\n",
       "      <td>46.055844</td>\n",
       "      <td>7588955</td>\n",
       "      <td>3745181060</td>\n",
       "      <td>462768132</td>\n",
       "    </tr>\n",
       "    <tr>\n",
       "      <th>4</th>\n",
       "      <td>2948</td>\n",
       "      <td>1009.0</td>\n",
       "      <td>Blount</td>\n",
       "      <td>Alabama</td>\n",
       "      <td>33.982109</td>\n",
       "      <td>-86.567906</td>\n",
       "      <td>28434</td>\n",
       "      <td>29211</td>\n",
       "      <td>40.8</td>\n",
       "      <td>50.673953</td>\n",
       "      <td>7588955</td>\n",
       "      <td>3745181060</td>\n",
       "      <td>462768132</td>\n",
       "    </tr>\n",
       "  </tbody>\n",
       "</table>\n",
       "</div>"
      ],
      "text/plain": [
       "   Unnamed: 0  county_code county_left    state   lat_left  long_left    male  \\\n",
       "0           1       1001.0     Autauga  Alabama  32.539527 -86.644082   26874   \n",
       "1         768       1003.0     Baldwin  Alabama  30.727750 -87.722071  101188   \n",
       "2        1562       1005.0     Barbour  Alabama  31.868263 -85.387129   13697   \n",
       "3        2245       1007.0        Bibb  Alabama  32.996421 -87.125115   12152   \n",
       "4        2948       1009.0      Blount  Alabama  33.982109 -86.567906   28434   \n",
       "\n",
       "   female  median_age  female_percentage  covid_deaths  Population  \\\n",
       "0   28326        37.8          51.315217       7588955  3745181060   \n",
       "1  106919        42.8          51.376936       7588955  3745181060   \n",
       "2   12085        39.9          46.873788       7588955  3745181060   \n",
       "3   10375        39.9          46.055844       7588955  3745181060   \n",
       "4   29211        40.8          50.673953       7588955  3745181060   \n",
       "\n",
       "   covid_cases  \n",
       "0    462768132  \n",
       "1    462768132  \n",
       "2    462768132  \n",
       "3    462768132  \n",
       "4    462768132  "
      ]
     },
     "execution_count": 8,
     "metadata": {},
     "output_type": "execute_result"
    }
   ],
   "source": [
    "df_merged_covid.head()"
   ]
  },
  {
   "cell_type": "code",
   "execution_count": 11,
   "id": "c9370f08",
   "metadata": {},
   "outputs": [],
   "source": [
    "df_merged_covid=df_merged_covid.drop(columns = ['county_left','state','Unnamed: 0'])"
   ]
  },
  {
   "cell_type": "code",
   "execution_count": 12,
   "id": "2e5c08d4",
   "metadata": {},
   "outputs": [
    {
     "name": "stderr",
     "output_type": "stream",
     "text": [
      "C:\\Users\\User\\anaconda3\\Lib\\site-packages\\sklearn\\cluster\\_kmeans.py:870: FutureWarning: The default value of `n_init` will change from 10 to 'auto' in 1.4. Set the value of `n_init` explicitly to suppress the warning\n",
      "  warnings.warn(\n",
      "C:\\Users\\User\\anaconda3\\Lib\\site-packages\\sklearn\\cluster\\_kmeans.py:870: FutureWarning: The default value of `n_init` will change from 10 to 'auto' in 1.4. Set the value of `n_init` explicitly to suppress the warning\n",
      "  warnings.warn(\n",
      "C:\\Users\\User\\anaconda3\\Lib\\site-packages\\sklearn\\cluster\\_kmeans.py:870: FutureWarning: The default value of `n_init` will change from 10 to 'auto' in 1.4. Set the value of `n_init` explicitly to suppress the warning\n",
      "  warnings.warn(\n",
      "C:\\Users\\User\\anaconda3\\Lib\\site-packages\\sklearn\\cluster\\_kmeans.py:870: FutureWarning: The default value of `n_init` will change from 10 to 'auto' in 1.4. Set the value of `n_init` explicitly to suppress the warning\n",
      "  warnings.warn(\n",
      "C:\\Users\\User\\anaconda3\\Lib\\site-packages\\sklearn\\cluster\\_kmeans.py:870: FutureWarning: The default value of `n_init` will change from 10 to 'auto' in 1.4. Set the value of `n_init` explicitly to suppress the warning\n",
      "  warnings.warn(\n",
      "C:\\Users\\User\\anaconda3\\Lib\\site-packages\\sklearn\\cluster\\_kmeans.py:870: FutureWarning: The default value of `n_init` will change from 10 to 'auto' in 1.4. Set the value of `n_init` explicitly to suppress the warning\n",
      "  warnings.warn(\n",
      "C:\\Users\\User\\anaconda3\\Lib\\site-packages\\sklearn\\cluster\\_kmeans.py:870: FutureWarning: The default value of `n_init` will change from 10 to 'auto' in 1.4. Set the value of `n_init` explicitly to suppress the warning\n",
      "  warnings.warn(\n",
      "C:\\Users\\User\\anaconda3\\Lib\\site-packages\\sklearn\\cluster\\_kmeans.py:870: FutureWarning: The default value of `n_init` will change from 10 to 'auto' in 1.4. Set the value of `n_init` explicitly to suppress the warning\n",
      "  warnings.warn(\n",
      "C:\\Users\\User\\anaconda3\\Lib\\site-packages\\sklearn\\cluster\\_kmeans.py:870: FutureWarning: The default value of `n_init` will change from 10 to 'auto' in 1.4. Set the value of `n_init` explicitly to suppress the warning\n",
      "  warnings.warn(\n"
     ]
    }
   ],
   "source": [
    "score = [kmeans[i].fit(df_merged_covid).score(df_merged_covid) for i in range(len(kmeans))] # Creates a score that represents \\n\",\n"
   ]
  },
  {
   "cell_type": "code",
   "execution_count": 13,
   "id": "763b9cb0",
   "metadata": {},
   "outputs": [
    {
     "data": {
      "text/plain": [
       "[-1.7794362117828427e+23,\n",
       " -3.683483551144466e+22,\n",
       " -1.8793707357125028e+22,\n",
       " -8.569602841708379e+21,\n",
       " -3.918312348923113e+21,\n",
       " -2.394960751468194e+21,\n",
       " -1.2106037761523573e+21,\n",
       " -6.045950656434698e+20,\n",
       " -4.5238393013355164e+20]"
      ]
     },
     "execution_count": 13,
     "metadata": {},
     "output_type": "execute_result"
    }
   ],
   "source": [
    "score"
   ]
  },
  {
   "cell_type": "code",
   "execution_count": 14,
   "id": "3caca59c",
   "metadata": {},
   "outputs": [
    {
     "data": {
      "image/png": "[encoded data removed]",
      "text/plain": [
       "<Figure size 640x480 with 1 Axes>"
      ]
     },
     "metadata": {},
     "output_type": "display_data"
    }
   ],
   "source": [
    "# Plot the elbow curve using PyLab\n",
    "pl.plot(num_cl,score)\n",
    "pl.xlabel('Number of Clusters')\n",
    "pl.ylabel('Score')\n",
    "pl.title('Elbow Curve')\n",
    "pl.show()"
   ]
  },
  {
   "cell_type": "markdown",
   "id": "a33bb6b5",
   "metadata": {},
   "source": [
    "The curve jumps rapidly from two to three and then three to four on the x-axis, then rises only slightly after four.This means that the optimal count for your clusters is just that four."
   ]
  },
  {
   "cell_type": "code",
   "execution_count": 15,
   "id": "de71a5ff",
   "metadata": {},
   "outputs": [],
   "source": [
    "# 3. k-means clustering\n",
    "kmeans = KMeans(n_clusters = 4)"
   ]
  },
  {
   "cell_type": "code",
   "execution_count": 16,
   "id": "d7b68b6a",
   "metadata": {},
   "outputs": [
    {
     "name": "stderr",
     "output_type": "stream",
     "text": [
      "C:\\Users\\User\\anaconda3\\Lib\\site-packages\\sklearn\\cluster\\_kmeans.py:870: FutureWarning: The default value of `n_init` will change from 10 to 'auto' in 1.4. Set the value of `n_init` explicitly to suppress the warning\n",
      "  warnings.warn(\n"
     ]
    },
    {
     "data": {
      "text/html": [
       "<style>#sk-container-id-1 {color: black;background-color: white;}#sk-container-id-1 pre{padding: 0;}#sk-container-id-1 div.sk-toggleable {background-color: white;}#sk-container-id-1 label.sk-toggleable__label {cursor: pointer;display: block;width: 100%;margin-bottom: 0;padding: 0.3em;box-sizing: border-box;text-align: center;}#sk-container-id-1 label.sk-toggleable__label-arrow:before {content: \"▸\";float: left;margin-right: 0.25em;color: #696969;}#sk-container-id-1 label.sk-toggleable__label-arrow:hover:before {color: black;}#sk-container-id-1 div.sk-estimator:hover label.sk-toggleable__label-arrow:before {color: black;}#sk-container-id-1 div.sk-toggleable__content {max-height: 0;max-width: 0;overflow: hidden;text-align: left;background-color: #f0f8ff;}#sk-container-id-1 div.sk-toggleable__content pre {margin: 0.2em;color: black;border-radius: 0.25em;background-color: #f0f8ff;}#sk-container-id-1 input.sk-toggleable__control:checked~div.sk-toggleable__content {max-height: 200px;max-width: 100%;overflow: auto;}#sk-container-id-1 input.sk-toggleable__control:checked~label.sk-toggleable__label-arrow:before {content: \"▾\";}#sk-container-id-1 div.sk-estimator input.sk-toggleable__control:checked~label.sk-toggleable__label {background-color: #d4ebff;}#sk-container-id-1 div.sk-label input.sk-toggleable__control:checked~label.sk-toggleable__label {background-color: #d4ebff;}#sk-container-id-1 input.sk-hidden--visually {border: 0;clip: rect(1px 1px 1px 1px);clip: rect(1px, 1px, 1px, 1px);height: 1px;margin: -1px;overflow: hidden;padding: 0;position: absolute;width: 1px;}#sk-container-id-1 div.sk-estimator {font-family: monospace;background-color: #f0f8ff;border: 1px dotted black;border-radius: 0.25em;box-sizing: border-box;margin-bottom: 0.5em;}#sk-container-id-1 div.sk-estimator:hover {background-color: #d4ebff;}#sk-container-id-1 div.sk-parallel-item::after {content: \"\";width: 100%;border-bottom: 1px solid gray;flex-grow: 1;}#sk-container-id-1 div.sk-label:hover label.sk-toggleable__label {background-color: #d4ebff;}#sk-container-id-1 div.sk-serial::before {content: \"\";position: absolute;border-left: 1px solid gray;box-sizing: border-box;top: 0;bottom: 0;left: 50%;z-index: 0;}#sk-container-id-1 div.sk-serial {display: flex;flex-direction: column;align-items: center;background-color: white;padding-right: 0.2em;padding-left: 0.2em;position: relative;}#sk-container-id-1 div.sk-item {position: relative;z-index: 1;}#sk-container-id-1 div.sk-parallel {display: flex;align-items: stretch;justify-content: center;background-color: white;position: relative;}#sk-container-id-1 div.sk-item::before, #sk-container-id-1 div.sk-parallel-item::before {content: \"\";position: absolute;border-left: 1px solid gray;box-sizing: border-box;top: 0;bottom: 0;left: 50%;z-index: -1;}#sk-container-id-1 div.sk-parallel-item {display: flex;flex-direction: column;z-index: 1;position: relative;background-color: white;}#sk-container-id-1 div.sk-parallel-item:first-child::after {align-self: flex-end;width: 50%;}#sk-container-id-1 div.sk-parallel-item:last-child::after {align-self: flex-start;width: 50%;}#sk-container-id-1 div.sk-parallel-item:only-child::after {width: 0;}#sk-container-id-1 div.sk-dashed-wrapped {border: 1px dashed gray;margin: 0 0.4em 0.5em 0.4em;box-sizing: border-box;padding-bottom: 0.4em;background-color: white;}#sk-container-id-1 div.sk-label label {font-family: monospace;font-weight: bold;display: inline-block;line-height: 1.2em;}#sk-container-id-1 div.sk-label-container {text-align: center;}#sk-container-id-1 div.sk-container {/* jupyter's `normalize.less` sets `[hidden] { display: none; }` but bootstrap.min.css set `[hidden] { display: none !important; }` so we also need the `!important` here to be able to override the default hidden behavior on the sphinx rendered scikit-learn.org. See: https://github.com/scikit-learn/scikit-learn/issues/21755 */display: inline-block !important;position: relative;}#sk-container-id-1 div.sk-text-repr-fallback {display: none;}</style><div id=\"sk-container-id-1\" class=\"sk-top-container\"><div class=\"sk-text-repr-fallback\"><pre>KMeans(n_clusters=4)</pre><b>In a Jupyter environment, please rerun this cell to show the HTML representation or trust the notebook. <br />On GitHub, the HTML representation is unable to render, please try loading this page with nbviewer.org.</b></div><div class=\"sk-container\" hidden><div class=\"sk-item\"><div class=\"sk-estimator sk-toggleable\"><input class=\"sk-toggleable__control sk-hidden--visually\" id=\"sk-estimator-id-1\" type=\"checkbox\" checked><label for=\"sk-estimator-id-1\" class=\"sk-toggleable__label sk-toggleable__label-arrow\">KMeans</label><div class=\"sk-toggleable__content\"><pre>KMeans(n_clusters=4)</pre></div></div></div></div></div>"
      ],
      "text/plain": [
       "KMeans(n_clusters=4)"
      ]
     },
     "execution_count": 16,
     "metadata": {},
     "output_type": "execute_result"
    }
   ],
   "source": [
    "# Fit the k-means object to the data.\n",
    "kmeans.fit(df_merged_covid)"
   ]
  },
  {
   "cell_type": "code",
   "execution_count": 17,
   "id": "3b976b0f",
   "metadata": {},
   "outputs": [
    {
     "name": "stderr",
     "output_type": "stream",
     "text": [
      "C:\\Users\\User\\anaconda3\\Lib\\site-packages\\sklearn\\cluster\\_kmeans.py:870: FutureWarning: The default value of `n_init` will change from 10 to 'auto' in 1.4. Set the value of `n_init` explicitly to suppress the warning\n",
      "  warnings.warn(\n"
     ]
    }
   ],
   "source": [
    "df_merged_covid['clusters'] = kmeans.fit_predict(df_merged_covid)"
   ]
  },
  {
   "cell_type": "code",
   "execution_count": 18,
   "id": "aedaffbc",
   "metadata": {},
   "outputs": [
    {
     "data": {
      "text/plain": [
       "0    1669\n",
       "2    1161\n",
       "1     316\n",
       "3      58\n",
       "Name: clusters, dtype: int64"
      ]
     },
     "execution_count": 18,
     "metadata": {},
     "output_type": "execute_result"
    }
   ],
   "source": [
    "df_merged_covid['clusters'].value_counts()"
   ]
  },
  {
   "cell_type": "code",
   "execution_count": 21,
   "id": "deb1001a",
   "metadata": {},
   "outputs": [
    {
     "data": {
      "image/png": "[encoded data removed]",
      "text/plain": [
       "<Figure size 1200x800 with 1 Axes>"
      ]
     },
     "metadata": {},
     "output_type": "display_data"
    }
   ],
   "source": [
    "# Plot the clusters for the \\\"Price per Unit\\\" and \\\"D.metro\\\" variables.\n",
    "plt.figure(figsize=(12,8))\n",
    "ax = sns.scatterplot(x=df_merged_covid['Population'], y=df_merged_covid['covid_cases'], hue=kmeans.labels_, s=100) \n",
    "#Here, you're subsetting `X` for the x and y arguments to avoid using their labels. \n",
    " # `hue` takes the value of the attribute `kmeans.labels_`, which is the result of running the k-means algorithm.\n",
    " # `s` represents the size of the points you want to see in the plot.\n",
    "ax.grid(False) # This removes the grid from the background.\n",
    "plt.xlabel('Population') # Label x-axis.\n",
    "plt.ylabel('Cases') # Label y-axis.\n",
    "plt.show()"
   ]
  },
  {
   "cell_type": "markdown",
   "id": "c8b52ba5",
   "metadata": {},
   "source": [
    "The light pink (coded as “0” in the legend), is also the high populated cluster. It gathers the data points with low population and relatively low cases. The cluster, in dark pink (coded as “1” in the legend), includes points with medium population and medium cases. The cluster, in light purple (coded as “2” in the legend), contains the points with the low-medium population and the low to medium cases.The cluster, in dark purple (coded as “3” in the legend), contains the points with the high population and the high cases."
   ]
  },
  {
   "cell_type": "code",
   "execution_count": 25,
   "id": "cbd43196",
   "metadata": {},
   "outputs": [],
   "source": [
    "ax.figure.savefig(os.path.join(path, '04 Analysis', 'Visualizations', 'cluster_cases_population.png'))"
   ]
  },
  {
   "cell_type": "code",
   "execution_count": 22,
   "id": "c140954b",
   "metadata": {},
   "outputs": [
    {
     "data": {
      "image/png": "[encoded data removed]",
      "text/plain": [
       "<Figure size 1200x800 with 1 Axes>"
      ]
     },
     "metadata": {},
     "output_type": "display_data"
    }
   ],
   "source": [
    "# Plot the clusters for the \\\"Price per Unit\\\" and \\\"D.metro\\\" variables.\n",
    "plt.figure(figsize=(12,8))\n",
    "ax = sns.scatterplot(x=df_merged_covid['covid_cases'], y=df_merged_covid['covid_deaths'], hue=kmeans.labels_, s=100) \n",
    "#Here, you're subsetting `X` for the x and y arguments to avoid using their labels. \n",
    " # `hue` takes the value of the attribute `kmeans.labels_`, which is the result of running the k-means algorithm.\n",
    " # `s` represents the size of the points you want to see in the plot.\n",
    "ax.grid(False) # This removes the grid from the background.\n",
    "plt.xlabel('Cases') # Label x-axis.\n",
    "plt.ylabel('Deaths') # Label y-axis.\n",
    "plt.show()"
   ]
  },
  {
   "cell_type": "markdown",
   "id": "9f7106d1",
   "metadata": {},
   "source": [
    "The light pink (coded as “0” in the legend), is also the high populated cluster. It gathers the data points with low number of cases and the very lowest number of deaths. The cluster, in dark pink (coded as “1” in the legend), includes points with medium number of cases and medium number of death. The cluster, in light purple (coded as “2” in the legend), contains the points with the low-medium number of cases and the low to medium number of deaths.The cluster, in dark purple (coded as “3” in the legend), contains the points with the high number of deaths and the high number of cases."
   ]
  },
  {
   "cell_type": "code",
   "execution_count": 23,
   "id": "6ff53263",
   "metadata": {},
   "outputs": [
    {
     "data": {
      "text/html": [
       "<div>\n",
       "<style scoped>\n",
       "    .dataframe tbody tr th:only-of-type {\n",
       "        vertical-align: middle;\n",
       "    }\n",
       "\n",
       "    .dataframe tbody tr th {\n",
       "        vertical-align: top;\n",
       "    }\n",
       "\n",
       "    .dataframe thead tr th {\n",
       "        text-align: left;\n",
       "    }\n",
       "\n",
       "    .dataframe thead tr:last-of-type th {\n",
       "        text-align: right;\n",
       "    }\n",
       "</style>\n",
       "<table border=\"1\" class=\"dataframe\">\n",
       "  <thead>\n",
       "    <tr>\n",
       "      <th></th>\n",
       "      <th colspan=\"2\" halign=\"left\">Population</th>\n",
       "      <th colspan=\"2\" halign=\"left\">covid_cases</th>\n",
       "      <th colspan=\"2\" halign=\"left\">covid_deaths</th>\n",
       "    </tr>\n",
       "    <tr>\n",
       "      <th></th>\n",
       "      <th>mean</th>\n",
       "      <th>median</th>\n",
       "      <th>mean</th>\n",
       "      <th>median</th>\n",
       "      <th>mean</th>\n",
       "      <th>median</th>\n",
       "    </tr>\n",
       "    <tr>\n",
       "      <th>clusters</th>\n",
       "      <th></th>\n",
       "      <th></th>\n",
       "      <th></th>\n",
       "      <th></th>\n",
       "      <th></th>\n",
       "      <th></th>\n",
       "    </tr>\n",
       "  </thead>\n",
       "  <tbody>\n",
       "    <tr>\n",
       "      <th>0</th>\n",
       "      <td>2.199711e+09</td>\n",
       "      <td>1.804928e+09</td>\n",
       "      <td>2.520174e+08</td>\n",
       "      <td>1.969640e+08</td>\n",
       "      <td>3.152051e+06</td>\n",
       "      <td>2791018.0</td>\n",
       "    </tr>\n",
       "    <tr>\n",
       "      <th>1</th>\n",
       "      <td>2.255826e+10</td>\n",
       "      <td>2.351179e+10</td>\n",
       "      <td>2.924601e+09</td>\n",
       "      <td>2.999654e+09</td>\n",
       "      <td>4.292510e+07</td>\n",
       "      <td>41900135.0</td>\n",
       "    </tr>\n",
       "    <tr>\n",
       "      <th>2</th>\n",
       "      <td>7.304515e+09</td>\n",
       "      <td>6.805783e+09</td>\n",
       "      <td>7.903022e+08</td>\n",
       "      <td>7.084519e+08</td>\n",
       "      <td>1.147584e+07</td>\n",
       "      <td>10961949.0</td>\n",
       "    </tr>\n",
       "    <tr>\n",
       "      <th>3</th>\n",
       "      <td>3.690819e+10</td>\n",
       "      <td>3.690819e+10</td>\n",
       "      <td>4.571329e+09</td>\n",
       "      <td>4.571329e+09</td>\n",
       "      <td>5.138640e+07</td>\n",
       "      <td>51386395.0</td>\n",
       "    </tr>\n",
       "  </tbody>\n",
       "</table>\n",
       "</div>"
      ],
      "text/plain": [
       "            Population                 covid_cases                \\\n",
       "                  mean        median          mean        median   \n",
       "clusters                                                           \n",
       "0         2.199711e+09  1.804928e+09  2.520174e+08  1.969640e+08   \n",
       "1         2.255826e+10  2.351179e+10  2.924601e+09  2.999654e+09   \n",
       "2         7.304515e+09  6.805783e+09  7.903022e+08  7.084519e+08   \n",
       "3         3.690819e+10  3.690819e+10  4.571329e+09  4.571329e+09   \n",
       "\n",
       "          covid_deaths              \n",
       "                  mean      median  \n",
       "clusters                            \n",
       "0         3.152051e+06   2791018.0  \n",
       "1         4.292510e+07  41900135.0  \n",
       "2         1.147584e+07  10961949.0  \n",
       "3         5.138640e+07  51386395.0  "
      ]
     },
     "execution_count": 23,
     "metadata": {},
     "output_type": "execute_result"
    }
   ],
   "source": [
    "df_merged_covid.groupby('clusters').agg({'Population':['mean', 'median'],'covid_cases':['mean', 'median'],'covid_deaths':['mean', 'median']})"
   ]
  },
  {
   "cell_type": "markdown",
   "id": "a209b1e9",
   "metadata": {},
   "source": [
    "The light pink cluster (0) has low population with an average of 2.199 billion residents. It has an average lowest number of cases and deaths.\n",
    "\n",
    "The dark pink cluster (1) has medium population with an average of 22.558 billion residents.It has an average second largest number of cases and deaths.\n",
    "\n",
    "The purple cluster (2) counties with an average of around 7.304 billion residents.It has an average medium number of cases and deaths. I\n",
    "\n",
    "The dark purple cluster (3) has highest population with an average of 36.908 billion residents. It has an average large number of cases and deaths. I\n",
    "\n",
    "#Propose what these results could be useful for in future steps of an analytics pipeline. In future steps it could be helpful for each analysis like population(low,medium,high) "
   ]
  },
  {
   "cell_type": "code",
   "execution_count": 24,
   "id": "d13793f1",
   "metadata": {},
   "outputs": [],
   "source": [
    "ax.figure.savefig(os.path.join(path, '04 Analysis', 'Visualizations', 'cluster_cases_deaths.png'))"
   ]
  },
  {
   "cell_type": "code",
   "execution_count": null,
   "id": "92012d05",
   "metadata": {},
   "outputs": [],
   "source": []
  }
 ],
 "metadata": {
  "kernelspec": {
   "display_name": "Python 3 (ipykernel)",
   "language": "python",
   "name": "python3"
  },
  "language_info": {
   "codemirror_mode": {
    "name": "ipython",
    "version": 3
   },
   "file_extension": ".py",
   "mimetype": "text/x-python",
   "name": "python",
   "nbconvert_exporter": "python",
   "pygments_lexer": "ipython3",
   "version": "3.11.3"
  }
 },
 "nbformat": 4,
 "nbformat_minor": 5
}
